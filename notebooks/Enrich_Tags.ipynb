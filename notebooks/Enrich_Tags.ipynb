{
 "cells": [
  {
   "cell_type": "code",
   "execution_count": 1,
   "id": "0de86d7e-186d-40b6-b068-824b68480408",
   "metadata": {
    "execution": {
     "iopub.execute_input": "2024-12-01T18:04:04.009130Z",
     "iopub.status.busy": "2024-12-01T18:04:04.008203Z",
     "iopub.status.idle": "2024-12-01T18:04:05.336351Z",
     "shell.execute_reply": "2024-12-01T18:04:05.335310Z"
    },
    "jupyter": {
     "source_hidden": true
    },
    "papermill": {
     "duration": 1.341678,
     "end_time": "2024-12-01T18:04:05.339011",
     "exception": false,
     "start_time": "2024-12-01T18:04:03.997333",
     "status": "completed"
    },
    "tags": []
   },
   "outputs": [],
   "source": [
    "import pandas as pd\n",
    "\n",
    "import json, csv\n",
    "from csv import writer, reader\n",
    "import os\n",
    "\n",
    "def save2json(filename, dump):\n",
    "    out_file = open(filename, \"w\")\n",
    "    json.dump(dump, out_file, indent=6)\n",
    "    out_file.close()\n",
    "\n",
    "\n",
    "def save2csv(filename, header, data):\n",
    "    with open(filename, \"w\", newline=\"\") as csvfile:\n",
    "        csvw = csv.writer(\n",
    "            csvfile, delimiter=\",\", quotechar=\"|\", quoting=csv.QUOTE_MINIMAL\n",
    "        )\n",
    "        csvw.writerow(header)\n",
    "        for d in data:\n",
    "            csvw.writerow(d)"
   ]
  },
  {
   "cell_type": "code",
   "execution_count": 2,
   "id": "a7b2211e-96c9-4995-8cce-95ab1327b23f",
   "metadata": {
    "execution": {
     "iopub.execute_input": "2024-12-01T18:04:05.367083Z",
     "iopub.status.busy": "2024-12-01T18:04:05.363883Z",
     "iopub.status.idle": "2024-12-01T18:04:05.396486Z",
     "shell.execute_reply": "2024-12-01T18:04:05.395314Z"
    },
    "jupyter": {
     "source_hidden": true
    },
    "papermill": {
     "duration": 0.058099,
     "end_time": "2024-12-01T18:04:05.399889",
     "exception": false,
     "start_time": "2024-12-01T18:04:05.341790",
     "status": "completed"
    },
    "tags": []
   },
   "outputs": [],
   "source": [
    "def get_textual_entities(infile, entity_file, outfile):\n",
    "    memes_entities = []\n",
    "    cache = []\n",
    "    errors = []\n",
    "    with open(infile) as csvfile:\n",
    "        urls = reader(csvfile)\n",
    "        # Loading file with dbpedia entities\n",
    "        with open(entity_file) as efile:\n",
    "            data = json.load(efile)\n",
    "            # Mapping DBPedia entities to Wikidata\n",
    "            with open(\"/opt/airflow/notebooks/data/dbpedia-wikidata.json\") as jsonfile:\n",
    "                db2wdmapping = json.load(jsonfile)\n",
    "                for row in urls:\n",
    "                    if row[1] in data.keys() and not row[1] in cache:\n",
    "                        cache.append([row[1]])\n",
    "                        newdata = data[row[1]]\n",
    "                        newdata[\"url\"] = row[1]\n",
    "                        if \"Resources\" in newdata.keys():\n",
    "                            for r in newdata[\"Resources\"]:\n",
    "                                res = r[\"@URI\"].replace(\n",
    "                                    \"http://dbpedia.org/resource/\", \"\"\n",
    "                                )\n",
    "                                if res in db2wdmapping.keys():\n",
    "                                    r[\"QID\"] = (\n",
    "                                        \"https://www.wikidata.org/wiki/\"\n",
    "                                        + db2wdmapping[res]\n",
    "                                    )\n",
    "                                if type(r[\"@types\"]) == str:\n",
    "                                    ls = (\n",
    "                                        r[\"@types\"]\n",
    "                                        .replace(\n",
    "                                            \"DUL:\",\n",
    "                                            \"http://www.loa-cnr.it/ontologies/DOLCE-Lite#\",\n",
    "                                        )\n",
    "                                        .replace(\n",
    "                                            \"Wikidata:\",\n",
    "                                            \"https://www.wikidata.org/wiki/\",\n",
    "                                        )\n",
    "                                        .replace(\"Schema:\", \"https://schema.org/\")\n",
    "                                        .split(\",\")\n",
    "                                    )\n",
    "                                    ls = list(filter(None, ls))\n",
    "                                    ls = [l for l in ls if \"DBpedia\" not in l]\n",
    "                                # elif(type(r[\"@types\"])==list):\n",
    "                                # ls = list(map(lambda s: s.replace(\"DUL:\", \"http://www.loa-cnr.it/ontologies/DOLCE-Lite#\").replace(\"Wikidata:\", \"https://www.wikidata.org/wiki/\").replace(\"Schema:\", \"https://schema.org/\").replace(\"DBpedia:\", \"\"),r[\"@types\"]))\n",
    "                                # errors.append([row[1],res,r[\"@types\"]])\n",
    "                                # Removing dbpedia types that do not have a correspondence in wikidata\n",
    "                                for l in ls:\n",
    "                                    if l in db2wdmapping.keys():\n",
    "                                        l = (\n",
    "                                            \"https://www.wikidata.org/wiki/\"\n",
    "                                            + db2wdmapping[l]\n",
    "                                        )\n",
    "                                r[\"@typeList\"] = ls\n",
    "                        memes_entities.append(data[row[1]])\n",
    "    save2json(outfile, memes_entities)\n",
    "    save2csv(\"errors.csv\", [\"kym\", \"entity\", \"@types\"], errors)"
   ]
  },
  {
   "cell_type": "code",
   "execution_count": 3,
   "id": "0faa5d60-21a3-4654-a2ea-2496bac1e447",
   "metadata": {
    "execution": {
     "iopub.execute_input": "2024-12-01T18:04:05.416567Z",
     "iopub.status.busy": "2024-12-01T18:04:05.415589Z",
     "iopub.status.idle": "2024-12-01T18:04:05.913680Z",
     "shell.execute_reply": "2024-12-01T18:04:05.912040Z"
    },
    "jupyter": {
     "source_hidden": true
    },
    "papermill": {
     "duration": 0.508619,
     "end_time": "2024-12-01T18:04:05.917418",
     "exception": false,
     "start_time": "2024-12-01T18:04:05.408799",
     "status": "completed"
    },
    "tags": []
   },
   "outputs": [],
   "source": [
    "spotlight_enrichment_raw = \"/opt/airflow/notebooks/baseData/kym.spotlight.raw.tags.json\"\n",
    "\n",
    "get_textual_entities(\n",
    "    \"/opt/airflow/notebooks/data/kym.media.frames.csv\",\n",
    "    spotlight_enrichment_raw,\n",
    "    \"/opt/airflow/notebooks/data/kym.media.frames.tags.enrichment.json\",\n",
    ")"
   ]
  }
 ],
 "metadata": {
  "kernelspec": {
   "display_name": "Python 3 (ipykernel)",
   "language": "python",
   "name": "python3"
  },
  "language_info": {
   "codemirror_mode": {
    "name": "ipython",
    "version": 3
   },
   "file_extension": ".py",
   "mimetype": "text/x-python",
   "name": "python",
   "nbconvert_exporter": "python",
   "pygments_lexer": "ipython3",
   "version": "3.8.18"
  },
  "papermill": {
   "default_parameters": {},
   "duration": 5.86188,
   "end_time": "2024-12-01T18:04:06.568024",
   "environment_variables": {},
   "exception": null,
   "input_path": "/opt/airflow/notebooks/Enrich_Tags.ipynb",
   "output_path": "/opt/airflow/notebooks/Enrich_Tags.ipynb",
   "parameters": {},
   "start_time": "2024-12-01T18:04:00.706144",
   "version": "2.5.0"
  }
 },
 "nbformat": 4,
 "nbformat_minor": 5
}