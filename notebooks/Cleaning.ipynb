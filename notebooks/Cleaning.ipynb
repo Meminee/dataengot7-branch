{
 "cells": [
  {
   "cell_type": "code",
   "execution_count": 1,
   "id": "430872ff-3cb8-4959-b268-25bdb1ed88d3",
   "metadata": {
    "execution": {
     "iopub.execute_input": "2024-12-01T18:02:42.833539Z",
     "iopub.status.busy": "2024-12-01T18:02:42.830913Z",
     "iopub.status.idle": "2024-12-01T18:02:56.056260Z",
     "shell.execute_reply": "2024-12-01T18:02:56.053511Z"
    },
    "jupyter": {
     "source_hidden": true
    },
    "papermill": {
     "duration": 13.273392,
     "end_time": "2024-12-01T18:02:56.060613",
     "exception": false,
     "start_time": "2024-12-01T18:02:42.787221",
     "status": "completed"
    },
    "tags": []
   },
   "outputs": [
    {
     "name": "stdout",
     "output_type": "stream",
     "text": [
      "\u001b[33mWARNING: The directory '/home/airflow/.cache/pip' or its parent directory is not owned or is not writable by the current user. The cache has been disabled. Check the permissions and owner of that directory. If executing pip with sudo, you should use sudo's -H flag.\u001b[0m\u001b[33m\r\n",
      "\u001b[0mDefaulting to user installation because normal site-packages is not writeable\r\n"
     ]
    },
    {
     "name": "stdout",
     "output_type": "stream",
     "text": [
      "Requirement already satisfied: psycopg2-binary in /home/airflow/.local/lib/python3.8/site-packages (2.9.9)\r\n",
      "Requirement already satisfied: pandas in /home/airflow/.local/lib/python3.8/site-packages (2.0.3)\r\n"
     ]
    },
    {
     "name": "stdout",
     "output_type": "stream",
     "text": [
      "Requirement already satisfied: python-dateutil>=2.8.2 in /home/airflow/.local/lib/python3.8/site-packages (from pandas) (2.8.2)\r\n",
      "Requirement already satisfied: pytz>=2020.1 in /home/airflow/.local/lib/python3.8/site-packages (from pandas) (2023.3.post1)\r\n",
      "Requirement already satisfied: tzdata>=2022.1 in /home/airflow/.local/lib/python3.8/site-packages (from pandas) (2023.4)\r\n",
      "Requirement already satisfied: numpy>=1.20.3 in /home/airflow/.local/lib/python3.8/site-packages (from pandas) (1.24.4)\r\n"
     ]
    },
    {
     "name": "stdout",
     "output_type": "stream",
     "text": [
      "Requirement already satisfied: six>=1.5 in /home/airflow/.local/lib/python3.8/site-packages (from python-dateutil>=2.8.2->pandas) (1.16.0)\r\n"
     ]
    },
    {
     "name": "stdout",
     "output_type": "stream",
     "text": [
      "\r\n",
      "\u001b[1m[\u001b[0m\u001b[34;49mnotice\u001b[0m\u001b[1;39;49m]\u001b[0m\u001b[39;49m A new release of pip is available: \u001b[0m\u001b[31;49m23.3.2\u001b[0m\u001b[39;49m -> \u001b[0m\u001b[32;49m24.3.1\u001b[0m\r\n",
      "\u001b[1m[\u001b[0m\u001b[34;49mnotice\u001b[0m\u001b[1;39;49m]\u001b[0m\u001b[39;49m To update, run: \u001b[0m\u001b[32;49mpython -m pip install --upgrade pip\u001b[0m\r\n"
     ]
    }
   ],
   "source": [
    "!pip install psycopg2-binary pandas"
   ]
  },
  {
   "cell_type": "code",
   "execution_count": 2,
   "id": "e5933520-aa83-466b-a668-92578487ef9b",
   "metadata": {
    "execution": {
     "iopub.execute_input": "2024-12-01T18:02:56.121649Z",
     "iopub.status.busy": "2024-12-01T18:02:56.119274Z",
     "iopub.status.idle": "2024-12-01T18:02:57.283244Z",
     "shell.execute_reply": "2024-12-01T18:02:57.281928Z"
    },
    "jupyter": {
     "source_hidden": true
    },
    "papermill": {
     "duration": 1.183535,
     "end_time": "2024-12-01T18:02:57.286630",
     "exception": false,
     "start_time": "2024-12-01T18:02:56.103095",
     "status": "completed"
    },
    "tags": []
   },
   "outputs": [],
   "source": [
    "import pandas as pd\n",
    "\n",
    "import json, csv\n",
    "from csv import writer, reader\n",
    "import os\n",
    "\n",
    "def save2json(filename, dump):\n",
    "    out_file = open(filename, \"w\")\n",
    "    json.dump(dump, out_file, indent=6)\n",
    "    out_file.close()\n",
    "\n",
    "\n",
    "def save2csv(filename, header, data):\n",
    "    with open(filename, \"w\", newline=\"\") as csvfile:\n",
    "        csvw = csv.writer(\n",
    "            csvfile, delimiter=\",\", quotechar=\"|\", quoting=csv.QUOTE_MINIMAL\n",
    "        )\n",
    "        csvw.writerow(header)\n",
    "        for d in data:\n",
    "            csvw.writerow(d)\n",
    "\n",
    "def delete_file(filename):\n",
    "    try:\n",
    "        os.remove(filename)\n",
    "        print(f\"File '{filename}' has been deleted.\")\n",
    "    except FileNotFoundError:\n",
    "        print(f\"File '{filename}' not found and cannot be deleted.\")\n",
    "    except Exception as e:\n",
    "        print(f\"An error occurred while deleting the file '{filename}': {str(e)}\")"
   ]
  },
  {
   "cell_type": "code",
   "execution_count": 3,
   "id": "fa6e5ef2-e58a-4d59-ace7-b0ae7a432b3f",
   "metadata": {
    "execution": {
     "iopub.execute_input": "2024-12-01T18:02:57.323240Z",
     "iopub.status.busy": "2024-12-01T18:02:57.321685Z",
     "iopub.status.idle": "2024-12-01T18:02:57.444167Z",
     "shell.execute_reply": "2024-12-01T18:02:57.442631Z"
    },
    "jupyter": {
     "source_hidden": true
    },
    "papermill": {
     "duration": 0.155314,
     "end_time": "2024-12-01T18:02:57.447622",
     "exception": false,
     "start_time": "2024-12-01T18:02:57.292308",
     "status": "completed"
    },
    "tags": []
   },
   "outputs": [
    {
     "name": "stdout",
     "output_type": "stream",
     "text": [
      "File '/opt/airflow/notebooks/data/raw_data.json' has been deleted.\n"
     ]
    }
   ],
   "source": [
    "raw_data = json.load(open(\"/opt/airflow/notebooks/data/raw_data.json\"))\n",
    "df_raw_data = pd.DataFrame(raw_data)\n",
    "delete_file(\"/opt/airflow/notebooks/data/raw_data.json\")\n",
    "\n",
    "raw_media_frames = []\n",
    "metas = []\n",
    "lds = []\n",
    "\n",
    "for index, row in df_raw_data.iterrows():\n",
    "    m = row.to_dict()\n",
    "\n",
    "    if (\n",
    "        \"sites\" in m[\"url\"]\n",
    "        or \"culture\" in m[\"url\"]\n",
    "        or \"subculture\" in m[\"url\"]\n",
    "        or \"event\" in m[\"url\"]\n",
    "        or \"people\" in m[\"url\"]\n",
    "        or \"type\" in m[\"url\"]\n",
    "    ):\n",
    "        continue\n",
    "    if (\n",
    "        \"content\" in m\n",
    "        and \"about\" in m[\"content\"]\n",
    "        and \"text\" in m[\"content\"][\"about\"]\n",
    "    ):\n",
    "        m[\"content\"][\"about\"][\"fulltext\"] = \"\".join(m[\"content\"][\"about\"][\"text\"])\n",
    "    if (\n",
    "        \"content\" in m\n",
    "        and \"origin\" in m[\"content\"]\n",
    "        and \"text\" in m[\"content\"][\"origin\"]\n",
    "    ):\n",
    "        m[\"content\"][\"origin\"][\"fulltext\"] = \"\".join(m[\"content\"][\"origin\"][\"text\"])\n",
    "    if (\n",
    "        \"content\" in m\n",
    "        and \"spread\" in m[\"content\"]\n",
    "        and \"text\" in m[\"content\"][\"spread\"]\n",
    "    ):\n",
    "        m[\"content\"][\"spread\"][\"fulltext\"] = \"\".join(m[\"content\"][\"spread\"][\"text\"])\n",
    "    if (\n",
    "        \"content\" in m\n",
    "        and \"subsection\" in m[\"content\"]\n",
    "        and \"text\" in m[\"content\"][\"subsection\"]\n",
    "    ):\n",
    "        m[\"content\"][\"subsection\"][\"fulltext\"] = \"\".join(\n",
    "            m[\"content\"][\"subsection\"][\"text\"]\n",
    "        )\n",
    "    if \"meta\" in m:\n",
    "        metas.append(m.pop(\"meta\", None))\n",
    "    if \"ld\" in m:\n",
    "        lds.append(m.pop(\"ld\", None))\n",
    "\n",
    "    raw_media_frames.append(m)\n",
    "\n",
    "save2json(\"/opt/airflow/notebooks/data/kym.media.frames.meta.json\", metas)\n",
    "\n",
    "save2json(\"/opt/airflow/notebooks/data/kym.media.frames.ls.json\", lds)\n",
    "\n",
    "save2json(\"/opt/airflow/notebooks/data/kym.media.frames.json\", raw_media_frames)\n",
    "\n",
    "save2csv(\n",
    "    \"/opt/airflow/notebooks/data/kym.media.frames.csv\",\n",
    "    [\"title\", \"meme\"],\n",
    "    [[m[\"title\"], m[\"url\"]] for m in raw_media_frames],\n",
    ")"
   ]
  },
  {
   "cell_type": "code",
   "execution_count": 4,
   "id": "eb75fec4-536c-4c96-a4be-c0b152762dd4",
   "metadata": {
    "execution": {
     "iopub.execute_input": "2024-12-01T18:02:57.457169Z",
     "iopub.status.busy": "2024-12-01T18:02:57.456052Z",
     "iopub.status.idle": "2024-12-01T18:02:57.626955Z",
     "shell.execute_reply": "2024-12-01T18:02:57.625607Z"
    },
    "jupyter": {
     "source_hidden": true
    },
    "papermill": {
     "duration": 0.178643,
     "end_time": "2024-12-01T18:02:57.629699",
     "exception": false,
     "start_time": "2024-12-01T18:02:57.451056",
     "status": "completed"
    },
    "tags": []
   },
   "outputs": [],
   "source": [
    "dump = {}\n",
    "with open('/opt/airflow/notebooks/baseData/aliases.csv') as aliasfile:\n",
    "    aliases = reader(aliasfile)\n",
    "    for a in aliases:\n",
    "        dump[a[1]]=a[0]\n",
    "save2json('/opt/airflow/notebooks/data/dbpedia-wikidata.json',dump)\n",
    "\n",
    "cleaned = {}\n",
    "with open('/opt/airflow/notebooks/data/dbpedia-wikidata.json') as aliasfile:\n",
    "    alias_map = json.load(aliasfile)\n",
    "    with open('/opt/airflow/notebooks/data/raw_imgflip_data.json') as jsonfile:\n",
    "        ist =  json.load(jsonfile)\n",
    "        for ii in ist:\n",
    "            if(ii['url']==None or ii['alt_text']==None):\n",
    "                continue\n",
    "            #ii['turl'] = alias_map[ii['template_ID']]\n",
    "            cleaned[ii['url']] = ii\n",
    "            \n",
    "save2json('/opt/airflow/notebooks/data/imgflip.json',cleaned)\n"
   ]
  }
 ],
 "metadata": {
  "kernelspec": {
   "display_name": "Python 3 (ipykernel)",
   "language": "python",
   "name": "python3"
  },
  "language_info": {
   "codemirror_mode": {
    "name": "ipython",
    "version": 3
   },
   "file_extension": ".py",
   "mimetype": "text/x-python",
   "name": "python",
   "nbconvert_exporter": "python",
   "pygments_lexer": "ipython3",
   "version": "3.8.18"
  },
  "papermill": {
   "default_parameters": {},
   "duration": 20.080753,
   "end_time": "2024-12-01T18:02:58.156546",
   "environment_variables": {},
   "exception": null,
   "input_path": "/opt/airflow/notebooks/Cleaning.ipynb",
   "output_path": "/opt/airflow/notebooks/Cleaning.ipynb",
   "parameters": {},
   "start_time": "2024-12-01T18:02:38.075793",
   "version": "2.5.0"
  }
 },
 "nbformat": 4,
 "nbformat_minor": 5
}