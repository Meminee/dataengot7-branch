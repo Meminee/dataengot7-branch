{
 "cells": [
  {
   "cell_type": "code",
   "execution_count": 1,
   "id": "94c5b466",
   "metadata": {
    "execution": {
     "iopub.execute_input": "2024-01-10T15:00:45.064158Z",
     "iopub.status.busy": "2024-01-10T15:00:45.063859Z",
     "iopub.status.idle": "2024-01-10T15:00:45.073833Z",
     "shell.execute_reply": "2024-01-10T15:00:45.072615Z"
    },
    "jupyter": {
     "source_hidden": true
    },
    "papermill": {
     "duration": 0.022182,
     "end_time": "2024-01-10T15:00:45.077124",
     "exception": false,
     "start_time": "2024-01-10T15:00:45.054942",
     "status": "completed"
    },
    "tags": []
   },
   "outputs": [
    {
     "name": "stdout",
     "output_type": "stream",
     "text": [
      "Hello World!\n"
     ]
    }
   ],
   "source": [
    "print(\"Hello World!\")"
   ]
  }
 ],
 "metadata": {
  "kernelspec": {
   "display_name": "Python 3 (ipykernel)",
   "language": "python",
   "name": "python3"
  },
  "language_info": {
   "codemirror_mode": {
    "name": "ipython",
    "version": 3
   },
   "file_extension": ".py",
   "mimetype": "text/x-python",
   "name": "python",
   "nbconvert_exporter": "python",
   "pygments_lexer": "ipython3",
   "version": "3.8.18"
  },
  "papermill": {
   "default_parameters": {},
   "duration": 1.420089,
   "end_time": "2024-01-10T15:00:45.304262",
   "environment_variables": {},
   "exception": null,
   "input_path": "/opt/airflow/notebooks/hello_notebook.ipynb",
   "output_path": "/opt/airflow/notebooks/hello_notebook.ipynb",
   "parameters": {},
   "start_time": "2024-01-10T15:00:43.884173",
   "version": "2.5.0"
  }
 },
 "nbformat": 4,
 "nbformat_minor": 5
}